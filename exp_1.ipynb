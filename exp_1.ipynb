{
 "cells": [
  {
   "cell_type": "code",
   "execution_count": 2,
   "metadata": {},
   "outputs": [],
   "source": [
    "import pandas as pd\n",
    "import numpy as np"
   ]
  },
  {
   "cell_type": "code",
   "execution_count": 3,
   "metadata": {},
   "outputs": [
    {
     "data": {
      "text/html": [
       "<div>\n",
       "<style scoped>\n",
       "    .dataframe tbody tr th:only-of-type {\n",
       "        vertical-align: middle;\n",
       "    }\n",
       "\n",
       "    .dataframe tbody tr th {\n",
       "        vertical-align: top;\n",
       "    }\n",
       "\n",
       "    .dataframe thead th {\n",
       "        text-align: right;\n",
       "    }\n",
       "</style>\n",
       "<table border=\"1\" class=\"dataframe\">\n",
       "  <thead>\n",
       "    <tr style=\"text-align: right;\">\n",
       "      <th></th>\n",
       "      <th>SI.NO</th>\n",
       "      <th>SKY</th>\n",
       "      <th>TEMP</th>\n",
       "      <th>HUMIDITY</th>\n",
       "      <th>WIND</th>\n",
       "      <th>WATER</th>\n",
       "      <th>FORECAST</th>\n",
       "      <th>ENJOY SPORT</th>\n",
       "    </tr>\n",
       "  </thead>\n",
       "  <tbody>\n",
       "    <tr>\n",
       "      <th>0</th>\n",
       "      <td>1</td>\n",
       "      <td>SUNNY</td>\n",
       "      <td>WARM</td>\n",
       "      <td>NORMAL</td>\n",
       "      <td>STRONG</td>\n",
       "      <td>WARM</td>\n",
       "      <td>SAME</td>\n",
       "      <td>YES</td>\n",
       "    </tr>\n",
       "    <tr>\n",
       "      <th>1</th>\n",
       "      <td>2</td>\n",
       "      <td>SUNNY</td>\n",
       "      <td>WARM</td>\n",
       "      <td>HIGH</td>\n",
       "      <td>STRONG</td>\n",
       "      <td>WARM</td>\n",
       "      <td>SAME</td>\n",
       "      <td>YES</td>\n",
       "    </tr>\n",
       "    <tr>\n",
       "      <th>2</th>\n",
       "      <td>3</td>\n",
       "      <td>RAINY</td>\n",
       "      <td>COLD</td>\n",
       "      <td>HIGH</td>\n",
       "      <td>STRONG</td>\n",
       "      <td>WARM</td>\n",
       "      <td>SAME</td>\n",
       "      <td>NO</td>\n",
       "    </tr>\n",
       "    <tr>\n",
       "      <th>3</th>\n",
       "      <td>4</td>\n",
       "      <td>SUNNY</td>\n",
       "      <td>WARM</td>\n",
       "      <td>HIGH</td>\n",
       "      <td>STRONG</td>\n",
       "      <td>WARM</td>\n",
       "      <td>SAME</td>\n",
       "      <td>YES</td>\n",
       "    </tr>\n",
       "  </tbody>\n",
       "</table>\n",
       "</div>"
      ],
      "text/plain": [
       "   SI.NO    SKY  TEMP HUMIDITY    WIND WATER FORECAST ENJOY SPORT\n",
       "0      1  SUNNY  WARM   NORMAL  STRONG  WARM     SAME         YES\n",
       "1      2  SUNNY  WARM     HIGH  STRONG  WARM     SAME         YES\n",
       "2      3  RAINY  COLD     HIGH  STRONG  WARM     SAME          NO\n",
       "3      4  SUNNY  WARM     HIGH  STRONG  WARM     SAME         YES"
      ]
     },
     "execution_count": 3,
     "metadata": {},
     "output_type": "execute_result"
    }
   ],
   "source": [
    "df = pd.read_csv('datasets\\df_1.csv')\n",
    "df"
   ]
  },
  {
   "cell_type": "code",
   "execution_count": 4,
   "metadata": {},
   "outputs": [
    {
     "data": {
      "text/plain": [
       "(array([[1, 'SUNNY', 'WARM', 'NORMAL', 'STRONG'],\n",
       "        [2, 'SUNNY', 'WARM', 'HIGH', 'STRONG'],\n",
       "        [3, 'RAINY', 'COLD', 'HIGH', 'STRONG'],\n",
       "        [4, 'SUNNY', 'WARM', 'HIGH', 'STRONG']], dtype=object),\n",
       " array(['YES', 'YES', 'NO', 'YES'], dtype=object))"
      ]
     },
     "execution_count": 4,
     "metadata": {},
     "output_type": "execute_result"
    }
   ],
   "source": [
    "a = np.array(df)\n",
    "X = a[:,:-3]\n",
    "y = a[:,-1]\n",
    "X,y"
   ]
  },
  {
   "cell_type": "code",
   "execution_count": 5,
   "metadata": {},
   "outputs": [],
   "source": [
    "def Fun(y):\n",
    "    spef_hyp = list(X[0])\n",
    "    for i,val in enumerate(y):\n",
    "        if val == 'yes':\n",
    "            spef_hyp = list(X[i]).copy()\n",
    "            break\n",
    "    for i,val in enumerate(y):\n",
    "        if val == 'yes':\n",
    "            for a in range(len(spef_hyp)):\n",
    "                if X[i][a] != spef_hyp[a]:\n",
    "                    spef_hyp[a] = '?'\n",
    "    return spef_hyp"
   ]
  },
  {
   "cell_type": "code",
   "execution_count": 6,
   "metadata": {},
   "outputs": [
    {
     "name": "stdout",
     "output_type": "stream",
     "text": [
      "[1, 'SUNNY', 'WARM', 'NORMAL', 'STRONG']\n"
     ]
    }
   ],
   "source": [
    "spf_hyp = Fun(y)\n",
    "print(spf_hyp)"
   ]
  }
 ],
 "metadata": {
  "kernelspec": {
   "display_name": ".venv",
   "language": "python",
   "name": "python3"
  },
  "language_info": {
   "codemirror_mode": {
    "name": "ipython",
    "version": 3
   },
   "file_extension": ".py",
   "mimetype": "text/x-python",
   "name": "python",
   "nbconvert_exporter": "python",
   "pygments_lexer": "ipython3",
   "version": "3.10.0"
  }
 },
 "nbformat": 4,
 "nbformat_minor": 2
}
