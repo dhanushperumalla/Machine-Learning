{
 "cells": [
  {
   "cell_type": "code",
   "execution_count": 2,
   "metadata": {},
   "outputs": [
    {
     "data": {
      "text/html": [
       "<div>\n",
       "<style scoped>\n",
       "    .dataframe tbody tr th:only-of-type {\n",
       "        vertical-align: middle;\n",
       "    }\n",
       "\n",
       "    .dataframe tbody tr th {\n",
       "        vertical-align: top;\n",
       "    }\n",
       "\n",
       "    .dataframe thead th {\n",
       "        text-align: right;\n",
       "    }\n",
       "</style>\n",
       "<table border=\"1\" class=\"dataframe\">\n",
       "  <thead>\n",
       "    <tr style=\"text-align: right;\">\n",
       "      <th></th>\n",
       "      <th>SI.NO</th>\n",
       "      <th>SKY</th>\n",
       "      <th>TEMP</th>\n",
       "      <th>HUMIDITY</th>\n",
       "      <th>WIND</th>\n",
       "      <th>WATER</th>\n",
       "      <th>FORECAST</th>\n",
       "      <th>ENJOY SPORT</th>\n",
       "    </tr>\n",
       "  </thead>\n",
       "  <tbody>\n",
       "    <tr>\n",
       "      <th>0</th>\n",
       "      <td>1</td>\n",
       "      <td>SUNNY</td>\n",
       "      <td>WARM</td>\n",
       "      <td>NORMAL</td>\n",
       "      <td>STRONG</td>\n",
       "      <td>WARM</td>\n",
       "      <td>SAME</td>\n",
       "      <td>YES</td>\n",
       "    </tr>\n",
       "    <tr>\n",
       "      <th>1</th>\n",
       "      <td>2</td>\n",
       "      <td>SUNNY</td>\n",
       "      <td>WARM</td>\n",
       "      <td>HIGH</td>\n",
       "      <td>STRONG</td>\n",
       "      <td>WARM</td>\n",
       "      <td>SAME</td>\n",
       "      <td>YES</td>\n",
       "    </tr>\n",
       "    <tr>\n",
       "      <th>2</th>\n",
       "      <td>3</td>\n",
       "      <td>RAINY</td>\n",
       "      <td>COLD</td>\n",
       "      <td>HIGH</td>\n",
       "      <td>STRONG</td>\n",
       "      <td>WARM</td>\n",
       "      <td>SAME</td>\n",
       "      <td>NO</td>\n",
       "    </tr>\n",
       "    <tr>\n",
       "      <th>3</th>\n",
       "      <td>4</td>\n",
       "      <td>SUNNY</td>\n",
       "      <td>WARM</td>\n",
       "      <td>HIGH</td>\n",
       "      <td>STRONG</td>\n",
       "      <td>WARM</td>\n",
       "      <td>SAME</td>\n",
       "      <td>YES</td>\n",
       "    </tr>\n",
       "  </tbody>\n",
       "</table>\n",
       "</div>"
      ],
      "text/plain": [
       "   SI.NO    SKY  TEMP HUMIDITY    WIND WATER FORECAST ENJOY SPORT\n",
       "0      1  SUNNY  WARM   NORMAL  STRONG  WARM     SAME         YES\n",
       "1      2  SUNNY  WARM     HIGH  STRONG  WARM     SAME         YES\n",
       "2      3  RAINY  COLD     HIGH  STRONG  WARM     SAME          NO\n",
       "3      4  SUNNY  WARM     HIGH  STRONG  WARM     SAME         YES"
      ]
     },
     "execution_count": 2,
     "metadata": {},
     "output_type": "execute_result"
    }
   ],
   "source": [
    "import numpy as np\n",
    "import pandas as pd\n",
    "df = pd.read_csv(\"datasets\\df_1.csv\")\n",
    "df"
   ]
  },
  {
   "cell_type": "code",
   "execution_count": 4,
   "metadata": {},
   "outputs": [
    {
     "data": {
      "text/plain": [
       "(array([[1, 'SUNNY', 'WARM', 'NORMAL', 'STRONG', 'WARM', 'SAME'],\n",
       "        [2, 'SUNNY', 'WARM', 'HIGH', 'STRONG', 'WARM', 'SAME'],\n",
       "        [3, 'RAINY', 'COLD', 'HIGH', 'STRONG', 'WARM', 'SAME'],\n",
       "        [4, 'SUNNY', 'WARM', 'HIGH', 'STRONG', 'WARM', 'SAME']],\n",
       "       dtype=object),\n",
       " array(['YES', 'YES', 'NO', 'YES'], dtype=object))"
      ]
     },
     "execution_count": 4,
     "metadata": {},
     "output_type": "execute_result"
    }
   ],
   "source": [
    "concepts = np.array(df.iloc[:,:-1])\n",
    "target = np.array(df.iloc[:,-1])\n",
    "concepts,target"
   ]
  },
  {
   "cell_type": "code",
   "execution_count": 7,
   "metadata": {},
   "outputs": [],
   "source": [
    "def learn(concepts,target):\n",
    "    spef_h = concepts[0].copy()\n",
    "    gen_h = [['?' for _ in range(len(spef_h))] for _ in range(len(spef_h))]\n",
    "    print(\"Initial Specific Hypothesis\")\n",
    "    print(spef_h)\n",
    "    print(\"Initial General Hypothesis\")\n",
    "    print(gen_h)\n",
    "    for i,instance in enumerate(concepts):\n",
    "        if target[i]=='yes':\n",
    "            for x in range(len(spef_h)):\n",
    "                if instance[x] != spef_h[x]:\n",
    "                    spef_h[x]='?'\n",
    "        elif target[i] == 'no':\n",
    "            for x in range(len(spef_h)):\n",
    "                if instance[x] != spef_h[x]:\n",
    "                    gen_h[x][x] = spef_h[x]\n",
    "    gen_h = [h for h in gen_h if h!= ['?' for _ in range(len(spef_h))]]\n",
    "    return spef_h,gen_h"
   ]
  },
  {
   "cell_type": "code",
   "execution_count": 12,
   "metadata": {},
   "outputs": [
    {
     "name": "stdout",
     "output_type": "stream",
     "text": [
      "Initial Specific Hypothesis\n",
      "[1 'SUNNY' 'WARM' 'NORMAL' 'STRONG' 'WARM' 'SAME']\n",
      "Initial General Hypothesis\n",
      "[['?', '?', '?', '?', '?', '?', '?'], ['?', '?', '?', '?', '?', '?', '?'], ['?', '?', '?', '?', '?', '?', '?'], ['?', '?', '?', '?', '?', '?', '?'], ['?', '?', '?', '?', '?', '?', '?'], ['?', '?', '?', '?', '?', '?', '?'], ['?', '?', '?', '?', '?', '?', '?']]\n",
      "Final specific hypothesis :\n",
      " [1 'SUNNY' 'WARM' 'NORMAL' 'STRONG' 'WARM' 'SAME']\n",
      "Final Genreal Hypothesis :\n",
      " []\n"
     ]
    }
   ],
   "source": [
    "s_final,g_final = learn(concepts,target)\n",
    "\n",
    "print(\"Final specific hypothesis :\\n\",s_final)\n",
    "print(\"Final Genreal Hypothesis :\\n\",g_final)"
   ]
  }
 ],
 "metadata": {
  "kernelspec": {
   "display_name": ".venv",
   "language": "python",
   "name": "python3"
  },
  "language_info": {
   "codemirror_mode": {
    "name": "ipython",
    "version": 3
   },
   "file_extension": ".py",
   "mimetype": "text/x-python",
   "name": "python",
   "nbconvert_exporter": "python",
   "pygments_lexer": "ipython3",
   "version": "3.10.0"
  }
 },
 "nbformat": 4,
 "nbformat_minor": 2
}
